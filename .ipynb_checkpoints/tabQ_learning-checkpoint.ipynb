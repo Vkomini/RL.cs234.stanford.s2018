{
 "cells": [
  {
   "cell_type": "code",
   "execution_count": 44,
   "metadata": {},
   "outputs": [],
   "source": [
    "import matplotlib.pyplot as plt\n",
    "\n",
    "%matplotlib inline"
   ]
  },
  {
   "cell_type": "code",
   "execution_count": 202,
   "metadata": {
    "scrolled": false
   },
   "outputs": [
    {
     "name": "stdout",
     "output_type": "stream",
     "text": [
      "episode: 0\n",
      "episode: 100\n",
      "episode: 200\n",
      "episode: 300\n",
      "episode: 400\n",
      "episode: 500\n",
      "episode: 600\n",
      "episode: 700\n",
      "episode: 800\n",
      "episode: 900\n"
     ]
    },
    {
     "data": {
      "image/png": "[encoded data removed]",
      "text/plain": [
       "<Figure size 432x288 with 1 Axes>"
      ]
     },
     "metadata": {},
     "output_type": "display_data"
    },
    {
     "name": "stdout",
     "output_type": "stream",
     "text": [
      "[[9.99965114e-01 1.16286188e-05 1.16286188e-05 1.16286188e-05]\n",
      " [1.17460796e-05 1.17460796e-05 1.17460796e-05 9.99964762e-01]\n",
      " [9.99964762e-01 1.17460796e-05 1.17460796e-05 1.17460796e-05]\n",
      " [9.85925330e-01 4.69155660e-03 4.69155660e-03 4.69155660e-03]\n",
      " [9.99965114e-01 1.16286188e-05 1.16286188e-05 1.16286188e-05]\n",
      " [2.50000000e-01 2.50000000e-01 2.50000000e-01 2.50000000e-01]\n",
      " [9.99964762e-01 1.17460796e-05 1.17460796e-05 1.17460796e-05]\n",
      " [2.50000000e-01 2.50000000e-01 2.50000000e-01 2.50000000e-01]\n",
      " [1.16286188e-05 1.16286188e-05 1.16286188e-05 9.99965114e-01]\n",
      " [1.16286188e-05 9.99965114e-01 1.16286188e-05 1.16286188e-05]\n",
      " [9.99965114e-01 1.16286188e-05 1.16286188e-05 1.16286188e-05]\n",
      " [2.50000000e-01 2.50000000e-01 2.50000000e-01 2.50000000e-01]\n",
      " [2.50000000e-01 2.50000000e-01 2.50000000e-01 2.50000000e-01]\n",
      " [1.16286188e-05 1.16286188e-05 9.99965114e-01 1.16286188e-05]\n",
      " [1.16286188e-05 9.99965114e-01 1.16286188e-05 1.16286188e-05]\n",
      " [2.50000000e-01 2.50000000e-01 2.50000000e-01 2.50000000e-01]]\n"
     ]
    }
   ],
   "source": [
    "import numpy as np\n",
    "import gym\n",
    "import time\n",
    "from lake_envs import *\n",
    "\n",
    "\n",
    "def learn_Q_QLearning(\n",
    "    env,\n",
    "    num_episodes=1000,\n",
    "    gamma=1.0,\n",
    "    lr=0.25,\n",
    "    e=0.8,\n",
    "    decay_rate=0.99):\n",
    "    \"\"\"Learn state-action values using the Q-learning algorithm with epsilon-greedy exploration strategy.\n",
    "    Update Q at the end of every episode.\n",
    "\n",
    "    Parameters\n",
    "    ----------\n",
    "    env: gym.core.Environment\n",
    "      Environment to compute Q function for. Must have nS, nA, and P as\n",
    "      attributes.\n",
    "    num_episodes: int \n",
    "      Number of episodes of training.\n",
    "    gamma: float\n",
    "      Discount factor. Number in range [0, 1)\n",
    "    learning_rate: float\n",
    "      Learning rate. Number in range [0, 1)\n",
    "    e: float\n",
    "      Epsilon value used in the epsilon-greedy method. \n",
    "    decay_rate: float\n",
    "      Rate at which epsilon falls. Number in range [0, 1)\n",
    "\n",
    "    Returns\n",
    "    -------\n",
    "    np.array\n",
    "      An array of shape [env.nS x env.nA] representing state, action values\n",
    "    \"\"\"\n",
    "\n",
    "    ############################\n",
    "    Q = np.zeros((env.nS, env.nA))\n",
    "    policy = np.ones((env.nS, env.nA)) * 1. / env.nA\n",
    "    policy_idx = np.ones((env.nS, 1)) * np.arange(env.nA)\n",
    "    return_per_episode_lst = []\n",
    "    for episode in range(num_episodes):\n",
    "        s = env.reset()\n",
    "        terminal = False\n",
    "        sarsn_lst = []\n",
    "        return_per_episode = 0.\n",
    "        if episode % 100 == 0:\n",
    "            print(\"episode: \" + str(episode))\n",
    "        while not terminal:\n",
    "#             env.render()\n",
    "            a = int(np.random.choice(env.nA, 1, p=policy[s]))\n",
    "            sn, r, terminal, _ = env.step(a)\n",
    "            sarsn_lst.append((s, a, r, sn))\n",
    "            # update Q\n",
    "            Q[s, a] = Q[s, a] + lr * (r + gamma * Q[sn].max() - Q[s, a])\n",
    "            # update policy\n",
    "            policy[s] = e * (decay_rate ** episode) / (env.nA - 1)\n",
    "            a_star = Q[s].argmax()\n",
    "            policy[s, a_star] = 1. - e * (decay_rate ** episode)\n",
    "            \n",
    "            return_per_episode += r\n",
    "            s = sn\n",
    "            \n",
    "        return_per_episode_lst.append(return_per_episode)\n",
    "        \n",
    "#         # update Q\n",
    "#         for sarsn in sarsn_lst:\n",
    "#             s, a, r, sn = sarsn\n",
    "#             Q[s, a] = Q[s, a] + lr * (r + gamma * Q[sn].max()) - Q[s, a]\n",
    "#         # improve policy\n",
    "#         actions_best = Q.argmax(axis=1).reshape(-1, 1)\n",
    "#         policy = np.ones((env.nS, env.nA)) * e * (decay_rate ** episode) / (env.nA - 1)\n",
    "#         policy[policy_idx == actions_best] = 1. - \\\n",
    "#           policy[policy_idx != actions_best].reshape((env.nS, -1)).sum(axis=1)\n",
    "    \n",
    "    ############################\n",
    "\n",
    "    return Q, policy, return_per_episode_lst\n",
    "\n",
    "\n",
    "def render_single_Q(env, Q):\n",
    "    \"\"\"Renders Q function once on environment. Watch your agent play!\n",
    "\n",
    "      Parameters\n",
    "      ----------\n",
    "      env: gym.core.Environment\n",
    "        Environment to play Q function on. Must have nS, nA, and P as\n",
    "        attributes.\n",
    "      Q: np.array of shape [env.nS x env.nA]\n",
    "        state-action values.\n",
    "    \"\"\"\n",
    "\n",
    "    episode_reward = 0\n",
    "    state = env.reset()\n",
    "    done = False\n",
    "    while not done:\n",
    "        env.render()\n",
    "        time.sleep(0.5)  # Seconds between frames. Modify as you wish.\n",
    "        action = np.argmax(Q[state])\n",
    "        state, reward, done, _ = env.step(action)\n",
    "        episode_reward += reward\n",
    "\n",
    "    print \"Episode reward: %f\" % episode_reward\n",
    "\n",
    "# Feel free to run your own debug code in main!\n",
    "\n",
    "\n",
    "def main():\n",
    "    env = gym.make('Stochastic-4x4-FrozenLake-v0')\n",
    "    Q, policy, return_per_episode_lst = learn_Q_QLearning(env)\n",
    "    num_episodes = len(return_per_episode_lst)\n",
    "    return_run_avg_lst = []\n",
    "    for episode in range(1, num_episodes):\n",
    "        return_run_avg = (float(sum(return_per_episode_lst[:episode][-100:])) /\n",
    "                          len(return_per_episode_lst[:episode][-100:])\n",
    "                         )\n",
    "        return_run_avg_lst.append(return_run_avg)\n",
    "#     print(return_run_avg_lst)\n",
    "#     print(return_per_episode_lst)\n",
    "    plt.plot(return_run_avg_lst)\n",
    "    plt.show()\n",
    "    print(policy)\n",
    "#     print(policy.argmax(axis=1))\n",
    "#     render_single_Q(env, Q)\n",
    "\n",
    "if __name__ == '__main__':\n",
    "    main()\n"
   ]
  },
  {
   "cell_type": "code",
   "execution_count": 154,
   "metadata": {},
   "outputs": [
    {
     "data": {
      "text/plain": [
       "[]"
      ]
     },
     "execution_count": 154,
     "metadata": {},
     "output_type": "execute_result"
    }
   ],
   "source": [
    "a = [0, 1, 2, 3]\n",
    "a[:0][-2:]"
   ]
  },
  {
   "cell_type": "code",
   "execution_count": null,
   "metadata": {},
   "outputs": [],
   "source": [
    "env = gym.make('Deterministic-4x4-FrozenLake-v0')\n",
    "print(env.__doc__)"
   ]
  },
  {
   "cell_type": "code",
   "execution_count": 97,
   "metadata": {},
   "outputs": [
    {
     "data": {
      "text/plain": [
       "0.3309258822938674"
      ]
     },
     "execution_count": 97,
     "metadata": {},
     "output_type": "execute_result"
    }
   ],
   "source": [
    "0.9 * (0.999 ** 1000)"
   ]
  },
  {
   "cell_type": "code",
   "execution_count": 104,
   "metadata": {},
   "outputs": [
    {
     "data": {
      "text/plain": [
       "0.5987369392383787"
      ]
     },
     "execution_count": 104,
     "metadata": {},
     "output_type": "execute_result"
    }
   ],
   "source": [
    "0.95 ** 10"
   ]
  },
  {
   "cell_type": "code",
   "execution_count": 192,
   "metadata": {},
   "outputs": [
    {
     "data": {
      "text/plain": [
       "1.2532566399656388e-155"
      ]
     },
     "execution_count": 192,
     "metadata": {},
     "output_type": "execute_result"
    }
   ],
   "source": [
    "0.7 ** 1000"
   ]
  },
  {
   "cell_type": "code",
   "execution_count": null,
   "metadata": {},
   "outputs": [],
   "source": []
  }
 ],
 "metadata": {
  "kernelspec": {
   "display_name": "Python 2",
   "language": "python",
   "name": "python2"
  },
  "language_info": {
   "codemirror_mode": {
    "name": "ipython",
    "version": 2
   },
   "file_extension": ".py",
   "mimetype": "text/x-python",
   "name": "python",
   "nbconvert_exporter": "python",
   "pygments_lexer": "ipython2",
   "version": "2.7.14"
  }
 },
 "nbformat": 4,
 "nbformat_minor": 2
}
